{
 "cells": [
  {
   "cell_type": "code",
   "execution_count": 2,
   "metadata": {},
   "outputs": [
    {
     "name": "stdout",
     "output_type": "stream",
     "text": [
      "{'lora_config': {'r': 16, 'lora_alpha': 32, 'lora_dropout': 0.5, 'bias': 'none', 'task_type': 'CAUSAL_LM'}, 'dataset': {'name': {'TA': 'Xcvddax/Attack-techniques', 'ATT': 'Xcvddax/Attack-techniques'}, 'split': 'train'}, 'model': {'name': 'mustafaaljadery/gemma-2B-10M', 'finetune_model': 'Xcvddax/Attack-techniques'}, 'api_tokens': {'huggingface': 'HUGGINGFACE_API_TOKEN'}, 'training_args': {'output_dir': 'Attack-techniques', 'per_device_train_batch_size': 1, 'gradient_accumulation_steps': 4, 'logging_steps': 100, 'push_to_hub': True}, 'trainer': {'dataset_text_field': 'text', 'max_seq_length': 512}, 'fine_tuning': {'method': 'lora'}}\n"
     ]
    }
   ],
   "source": [
    "import yaml\n",
    "from warnings import filterwarnings\n",
    "from dotenv import load_dotenv\n",
    "\n",
    "setting = yaml.safe_load(open(\"../setting.yml\"))\n",
    "print(setting)\n",
    "\n",
    "filterwarnings(\"ignore\")\n",
    "load_dotenv()"
   ]
  },
  {
   "cell_type": "code",
   "execution_count": null,
   "metadata": {},
   "outputs": [],
   "source": [
    "from transformers import AutoModelForCausalLM, AutoTokenizer,TrainingArguments,BitsAndBytesConfig\n",
    "import torch\n",
    "from datasets import load_dataset\n",
    "from trl import SFTTrainer\n",
    "from peft import LoraConfig, get_peft_model\n",
    "import gc\n",
    "import os\n",
    "\n",
    "# Loading Dataset\n",
    "dataset = load_dataset(setting['dataset']['name']['ATT'],split=setting['dataset']['split'],token=setting['api_tokens']['huggingface'])\n",
    "\n",
    "# Quantization\n",
    "# compute_dtype = getattr(torch, \"float16\")\n",
    "# quant_config = BitsAndBytesConfig(load_in_4bit=True, bnb_4bit_quant_type=\"nf4\", bnb_4bit_compute_dtype=compute_dtype, bnb_4bit_use_double_quant=False)\n",
    "\n",
    "# Loading model\n",
    "model = AutoModelForCausalLM.from_pretrained(setting['model']['name'],device_map='auto',token=setting['api_tokens']['huggingface'])\n",
    "\n",
    "tokenizer = AutoTokenizer.from_pretrained(setting['model']['name'], trust_remote_code=True,token=setting['api_tokens']['huggingface'])\n",
    "tokenizer.pad_token = tokenizer.eos_token\n",
    "tokenizer.padding_side = \"right\"\n",
    "\n",
    "# Set PEFT Parameters\n",
    "# Configure LoRA if fine-tuning method is 'lora'\n",
    "if 'fine_tuning' in setting and 'method' in setting['fine_tuning'] and setting['fine_tuning']['method'] == 'lora':\n",
    "    if 'lora_config' in setting:\n",
    "        peft_config = LoraConfig(\n",
    "            r=int(setting['lora_config'].get('r', 0)),\n",
    "            lora_alpha=int(setting['lora_config'].get('lora_alpha', 0)),\n",
    "            lora_dropout=float(setting['lora_config'].get('lora_dropout', 0.0)),\n",
    "            bias=str(setting['lora_config'].get('bias', '')),\n",
    "            task_type=str(setting['lora_config'].get('task_type', '')),\n",
    "        )\n",
    "        model = get_peft_model(model, peft_config)\n",
    "        print(\"LoRA method can't be used in to mergekit. Please use the full-finetuning method.\")\n",
    "        print(model)\n",
    "else:\n",
    "    print(model)\n",
    "\n",
    "\n",
    "def formatting_prompts_func(dataset):\n",
    "    output_texts = []\n",
    "    for i in range(len(dataset)):\n",
    "        text = \"\"\n",
    "        for key in dataset.keys():\n",
    "            text += f\" {key}: {dataset[key][i]} ,\"\n",
    "        output_texts.append(text)\n",
    "    return output_texts\n",
    "\n",
    "training_params = TrainingArguments(\n",
    "    output_dir=setting[\"training_args\"][\"output_dir\"], \n",
    "    num_train_epochs=3, \n",
    "    per_device_train_batch_size=setting[\"training_args\"][\"per_device_train_batch_size\"], \n",
    "    gradient_accumulation_steps=setting[\"training_args\"][\"gradient_accumulation_steps\"],\n",
    "    optim=\"paged_adamw_32bit\", save_steps=10, logging_steps=setting[\"training_args\"][\"logging_steps\"], \n",
    "    learning_rate=2e-4, weight_decay=0.001, fp16=False, bf16=False, max_grad_norm=0.3, max_steps=-1, warmup_ratio=0.03,\n",
    "    group_by_length=True, \n",
    "    lr_scheduler_type=\"constant\", \n",
    "    report_to=\"tensorboard\"\n",
    ")\n",
    "\n",
    "\n"
   ]
  },
  {
   "cell_type": "code",
   "execution_count": null,
   "metadata": {},
   "outputs": [],
   "source": [
    "\n",
    "trainer = SFTTrainer(\n",
    "    model=model,\n",
    "    train_dataset=dataset,\n",
    "    formatting_func=formatting_prompts_func,\n",
    "    max_seq_length=None,\n",
    "    tokenizer=tokenizer,\n",
    "    args=training_params,\n",
    "    packing=False\n",
    ")"
   ]
  },
  {
   "cell_type": "code",
   "execution_count": null,
   "metadata": {},
   "outputs": [],
   "source": [
    "gc.collect()\n",
    "torch.cuda.empty_cache()\n",
    "\n",
    "trainer.train()\n",
    "gc.collect()\n",
    "torch.cuda.empty_cache()\n"
   ]
  },
  {
   "cell_type": "code",
   "execution_count": null,
   "metadata": {},
   "outputs": [],
   "source": [
    "trainer.push_to_hub(\"Xcvddax/Attack-techniques\", token=setting['api_tokens']['huggingface'])\n",
    "\n",
    "trainer.model.save_pretrained(setting[\"model\"][\"finetune_model\"])\n",
    "trainer.tokenizer.save_pretrained(setting[\"model\"][\"finetune_model\"])"
   ]
  }
 ],
 "metadata": {
  "kernelspec": {
   "display_name": "Python 3",
   "language": "python",
   "name": "python3"
  },
  "language_info": {
   "codemirror_mode": {
    "name": "ipython",
    "version": 3
   },
   "file_extension": ".py",
   "mimetype": "text/x-python",
   "name": "python",
   "nbconvert_exporter": "python",
   "pygments_lexer": "ipython3",
   "version": "3.10.11"
  }
 },
 "nbformat": 4,
 "nbformat_minor": 2
}
