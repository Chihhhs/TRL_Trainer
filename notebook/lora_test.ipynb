{
 "cells": [
  {
   "cell_type": "code",
   "execution_count": null,
   "metadata": {},
   "outputs": [],
   "source": [
    "from yaml import safe_load\n",
    "setting = safe_load(open(\"../setting.yml\"))\n",
    "\n",
    "print(setting)\n",
    "from warnings import filterwarnings\n",
    "filterwarnings(\"ignore\")"
   ]
  },
  {
   "cell_type": "code",
   "execution_count": null,
   "metadata": {},
   "outputs": [],
   "source": [
    "from transformers import AutoTokenizer , AutoModelForCausalLM \n",
    "\n",
    "base_model = AutoModelForCausalLM.from_pretrained(setting['model']['name'],token=setting['api_tokens']['huggingface']).to('cuda')\n",
    "tokenizer = AutoTokenizer.from_pretrained(setting['model']['name'], trust_remote_code=True,token=setting['api_tokens']['huggingface'])"
   ]
  },
  {
   "cell_type": "code",
   "execution_count": null,
   "metadata": {},
   "outputs": [],
   "source": [
    "prompt = \"What is Descript of Extra Window Memory Injection?\"\n",
    "input_ids = tokenizer.encode(prompt, return_tensors=\"pt\").to('cuda')"
   ]
  },
  {
   "cell_type": "code",
   "execution_count": null,
   "metadata": {},
   "outputs": [],
   "source": [
    "output1 = base_model.generate(input_ids,max_length =350)\n",
    "generated_text = tokenizer.decode(output1[0], skip_special_tokens=True)\n",
    "print(\"Base:\")\n",
    "print(generated_text)"
   ]
  },
  {
   "cell_type": "code",
   "execution_count": null,
   "metadata": {},
   "outputs": [],
   "source": [
    "from peft import PeftModel\n",
    "\n",
    "peft_model = PeftModel.from_pretrained(base_model, setting['model']['finetune_model'],token=setting['api_tokens']['huggingface']).to('cuda')"
   ]
  },
  {
   "cell_type": "code",
   "execution_count": null,
   "metadata": {},
   "outputs": [],
   "source": [
    "output2 = peft_model.generate(input_ids,max_length =350)\n",
    "generated_text = tokenizer.decode(output2[0], skip_special_tokens=True)\n",
    "print(\"Finetune:\")\n",
    "print(generated_text)"
   ]
  }
 ],
 "metadata": {
  "language_info": {
   "name": "python"
  }
 },
 "nbformat": 4,
 "nbformat_minor": 2
}
