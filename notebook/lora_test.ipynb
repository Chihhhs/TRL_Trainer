{
 "cells": [
  {
   "cell_type": "code",
   "execution_count": null,
   "metadata": {},
   "outputs": [],
   "source": [
    "from yaml import safe_load\n",
    "setting = safe_load(open(\"../setting.yml\"))\n",
    "# https://medium.com/@ruslanmv/generative-ai-for-text-generation-from-scratch-25db8d6cd335\n",
    "print(setting)\n",
    "from warnings import filterwarnings\n",
    "filterwarnings(\"ignore\")"
   ]
  },
  {
   "cell_type": "code",
   "execution_count": null,
   "metadata": {},
   "outputs": [],
   "source": [
    "\n",
    "from transformers import AutoTokenizer , AutoModelForCausalLM \n",
    "\n",
    "# fine-tune a model with LoRA, only the LoRA weights are stored for efficiency. \n",
    "# Therefore, you need to first load the original model, then the LoRA weights in a second step.\n",
    "base_model = AutoModelForCausalLM.from_pretrained(setting['model']['name']).to('cuda')\n",
    "\n",
    "tokenizer = AutoTokenizer.from_pretrained(setting['model']['name'])\n",
    "\n",
    "prompt = \"What is Descript of Extra Window Memory Injection?\"\n",
    "input_ids = tokenizer.encode(prompt, return_tensors=\"pt\").to('cuda')\n",
    "output1 = base_model.generate(input_ids,max_length =250)\n",
    "generated_text = tokenizer.decode(output1[0], skip_special_tokens=True)\n",
    "print(\"Base:\")\n",
    "print(generated_text)"
   ]
  },
  {
   "cell_type": "code",
   "execution_count": null,
   "metadata": {},
   "outputs": [],
   "source": [
    "from peft import PeftModel\n",
    "\n",
    "# fine-tune a model with LoRA, only the LoRA weights are stored for efficiency. \n",
    "# Therefore, you need to first load the original model, then the LoRA weights in a second step.\n",
    "peft_model = PeftModel.from_pretrained(base_model, setting['model']['finetune_model']).to('cuda')\n",
    "\n",
    "output2 = peft_model.generate(input_ids,max_length =250)\n",
    "generated_text = tokenizer.decode(output2[0], skip_special_tokens=True)\n",
    "print(\"Finetune:\")\n",
    "print(generated_text)"
   ]
  }
 ],
 "metadata": {
  "language_info": {
   "name": "python"
  }
 },
 "nbformat": 4,
 "nbformat_minor": 2
}
