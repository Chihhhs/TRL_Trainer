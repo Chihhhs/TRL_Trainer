{
 "cells": [
  {
   "cell_type": "code",
   "execution_count": null,
   "metadata": {},
   "outputs": [],
   "source": [
    "import yaml\n",
    "from warnings import filterwarnings\n",
    "from dotenv import load_dotenv\n",
    "\n",
    "setting = yaml.safe_load(open(\"../setting.yml\"))\n",
    "print(setting)\n",
    "\n",
    "filterwarnings(\"ignore\")\n",
    "load_dotenv()"
   ]
  },
  {
   "cell_type": "code",
   "execution_count": null,
   "metadata": {},
   "outputs": [],
   "source": [
    "import torch\n",
    "from transformers import AutoModelForCausalLM, AutoTokenizer\n",
    "\n",
    "model_name = \"meta-llama/Llama-2-7b-chat-hf\"\n",
    "torch.set_default_device(\"cuda\")\n",
    "\n",
    "model = AutoModelForCausalLM.from_pretrained(model_name,torch_dtype=torch.float16,trust_remote_code=True,token =setting[\"hf_token\"])\n",
    "\n",
    "tokenizer = AutoTokenizer.from_pretrained(model_name, trust_remote_code=True,token =setting[\"hf_token\"])\n"
   ]
  },
  {
   "cell_type": "code",
   "execution_count": null,
   "metadata": {},
   "outputs": [],
   "source": [
    "from peft import PeftModel, PeftConfig\n",
    "\n",
    "#Load the model weights from hub\n",
    "model_adapters = \"praveeny/phi2-webglm-qlora\"\n",
    "model = PeftModel.from_pretrained(model, model_adapters)\n",
    "\n",
    "model = model.merge_and_unload()\n",
    "model.save_pretrained(\"updated_adapters\")"
   ]
  },
  {
   "cell_type": "code",
   "execution_count": null,
   "metadata": {},
   "outputs": [],
   "source": [
    "model.push_to_hub(\"attack-llama-2-7b-chat-lora\",\n",
    "                  commit_message=\"merged model\",token =setting[\"hf_token\"])\n",
    "\n",
    "tokenizer.push_to_hub(\"attack-llama-2-7b-chat-lora\",\n",
    "                  commit_message=\"tokenizer\",token =setting[\"hf_token\"])"
   ]
  },
  {
   "cell_type": "code",
   "execution_count": null,
   "metadata": {},
   "outputs": [],
   "source": [
    "## Download the model from huggingface hub\n",
    "from huggingface_hub import snapshot_download\n",
    "\n",
    "#Download the merged model\n",
    "model_id=\"Xcvddax/attack-llama-2-7b-chat-lora\"\n",
    "#Download the repository to local_dir\n",
    "snapshot_download(repo_id=model_id, local_dir=\"model\",\n",
    "                  local_dir_use_symlinks=False)"
   ]
  }
 ],
 "metadata": {
  "language_info": {
   "name": "python"
  }
 },
 "nbformat": 4,
 "nbformat_minor": 2
}
