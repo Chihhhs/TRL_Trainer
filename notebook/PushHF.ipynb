{
 "cells": [
  {
   "cell_type": "code",
   "execution_count": null,
   "metadata": {},
   "outputs": [],
   "source": [
    "import yaml\n",
    "from warnings import filterwarnings\n",
    "from dotenv import load_dotenv\n",
    "\n",
    "setting = yaml.safe_load(open(\"../setting.yml\"))\n",
    "print(setting)\n",
    "\n",
    "filterwarnings(\"ignore\")\n",
    "load_dotenv()"
   ]
  },
  {
   "cell_type": "code",
   "execution_count": null,
   "metadata": {},
   "outputs": [],
   "source": [
    "from huggingface_hub import HfApi\n",
    "api = HfApi()\n",
    "\n",
    "model_id = \"llama2-chat-attck-gguf\"\n",
    "api.create_repo(repo_id=model_id, exist_ok=True, repo_type=\"model\",token =setting[\"hf_token\"])\n"
   ]
  },
  {
   "cell_type": "code",
   "execution_count": null,
   "metadata": {},
   "outputs": [],
   "source": [
    "api.upload_file(\n",
    "    path_or_fileobj=\"output/attack.gguf\",\n",
    "    path_in_repo=\"llama2-chat-attack.gguf\",\n",
    "    repo_id='Xcvddax/llama2-chat-attck-gguf',\n",
    "    token =setting[\"hf_token\"]\n",
    ")"
   ]
  }
 ],
 "metadata": {
  "language_info": {
   "name": "python"
  }
 },
 "nbformat": 4,
 "nbformat_minor": 2
}
